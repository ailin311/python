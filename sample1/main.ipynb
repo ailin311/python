{
 "cells": [
  {
   "cell_type": "code",
   "execution_count": 48,
   "metadata": {
    "ExecuteTime": {
     "end_time": "2021-04-18T02:56:40.657312Z",
     "start_time": "2021-04-18T02:56:40.649312Z"
    }
   },
   "outputs": [],
   "source": [
    "# 通用测试函数\n",
    "def test(got, expected):\n",
    "    prefix = 'OK' if got == expected else 'X'\n",
    "    print('%s got: %s expected: %s' % (prefix, str(got), expected))"
   ]
  },
  {
   "cell_type": "code",
   "execution_count": 49,
   "metadata": {
    "ExecuteTime": {
     "end_time": "2021-04-18T02:56:42.087394Z",
     "start_time": "2021-04-18T02:56:42.077394Z"
    }
   },
   "outputs": [
    {
     "data": {
      "text/plain": [
       "[1, 2, 3, 4, 5]"
      ]
     },
     "execution_count": 49,
     "metadata": {},
     "output_type": "execute_result"
    }
   ],
   "source": [
    "s = '[1, 2, 3, 4, 5]'\n",
    "s = eval(s)\n",
    "s"
   ]
  },
  {
   "cell_type": "code",
   "execution_count": 3,
   "metadata": {
    "ExecuteTime": {
     "end_time": "2021-04-18T02:56:10.432584Z",
     "start_time": "2021-04-18T02:56:10.420583Z"
    }
   },
   "outputs": [
    {
     "data": {
      "text/plain": [
       "'abc100'"
      ]
     },
     "execution_count": 3,
     "metadata": {},
     "output_type": "execute_result"
    }
   ],
   "source": [
    "x = 100\n",
    "'abc' + str(x) # 必须强制转换类型"
   ]
  },
  {
   "cell_type": "code",
   "execution_count": 4,
   "metadata": {
    "ExecuteTime": {
     "end_time": "2021-04-18T02:56:10.449585Z",
     "start_time": "2021-04-18T02:56:10.440584Z"
    }
   },
   "outputs": [
    {
     "data": {
      "text/plain": [
       "'\\n练习1：给定一个单词数组，统计符合如下标准的单词的个数：\\n- 单词第一个字母与最后一个字母相等，\\n- 单词长度大于等于2\\n'"
      ]
     },
     "execution_count": 4,
     "metadata": {},
     "output_type": "execute_result"
    }
   ],
   "source": [
    "'''\n",
    "练习1：给定一个单词数组，统计符合如下标准的单词的个数：\n",
    "- 单词第一个字母与最后一个字母相等，\n",
    "- 单词长度大于等于2\n",
    "'''"
   ]
  },
  {
   "cell_type": "code",
   "execution_count": 5,
   "metadata": {
    "ExecuteTime": {
     "end_time": "2021-04-18T02:56:10.482586Z",
     "start_time": "2021-04-18T02:56:10.458585Z"
    }
   },
   "outputs": [
    {
     "name": "stdout",
     "output_type": "stream",
     "text": [
      "OK got: 3 expected: 3\n",
      "OK got: 2 expected: 2\n",
      "OK got: 1 expected: 1\n"
     ]
    }
   ],
   "source": [
    "def match_ends(words):\n",
    "    count = 0\n",
    "    for word in words:\n",
    "        if (len(word) >= 2) and (word[0] == word[-1]):\n",
    "            count += 1\n",
    "    return count\n",
    "    \n",
    "test(match_ends(['aba', 'xyz', 'aa', 'x', 'bbb']), 3)\n",
    "test(match_ends(['', 'x', 'xy', 'xyx', 'xx']), 2)\n",
    "test(match_ends(['aaa', 'be', 'abc', 'hello']), 1)"
   ]
  },
  {
   "cell_type": "code",
   "execution_count": 6,
   "metadata": {
    "ExecuteTime": {
     "end_time": "2021-04-18T02:56:10.505588Z",
     "start_time": "2021-04-18T02:56:10.491587Z"
    }
   },
   "outputs": [
    {
     "data": {
      "text/plain": [
       "\"\\n练习2：给定一个字符串数组，按以下规则进行排序\\n- 'x'开头的单词在最前面单独排序\\n- 非'x'开头的单词在'x'开头的单词之后进行排序\\n\""
      ]
     },
     "execution_count": 6,
     "metadata": {},
     "output_type": "execute_result"
    }
   ],
   "source": [
    "'''\n",
    "练习2：给定一个字符串数组，按以下规则进行排序\n",
    "- 'x'开头的单词在最前面单独排序\n",
    "- 非'x'开头的单词在'x'开头的单词之后进行排序\n",
    "'''"
   ]
  },
  {
   "cell_type": "code",
   "execution_count": 7,
   "metadata": {
    "ExecuteTime": {
     "end_time": "2021-04-18T02:56:10.533589Z",
     "start_time": "2021-04-18T02:56:10.514588Z"
    }
   },
   "outputs": [
    {
     "name": "stdout",
     "output_type": "stream",
     "text": [
      "OK got: ['xaa', 'xzz', 'axx', 'bbb', 'ccc'] expected: ['xaa', 'xzz', 'axx', 'bbb', 'ccc']\n",
      "OK got: ['xaa', 'xcc', 'aaa', 'bbb', 'ccc'] expected: ['xaa', 'xcc', 'aaa', 'bbb', 'ccc']\n",
      "OK got: ['xanadu', 'xyz', 'aardvark', 'apple', 'mix'] expected: ['xanadu', 'xyz', 'aardvark', 'apple', 'mix']\n"
     ]
    }
   ],
   "source": [
    "def front_x(words):\n",
    "    x_list = []\n",
    "    other_list = []\n",
    "    for word in words:\n",
    "        if word.startswith('x'):\n",
    "            x_list.append(word)\n",
    "        else:\n",
    "            other_list.append(word)\n",
    "    return sorted(x_list) + sorted(other_list)\n",
    "\n",
    "test(front_x(['bbb', 'ccc', 'axx', 'xzz', 'xaa']), \\\n",
    "             ['xaa', 'xzz', 'axx', 'bbb', 'ccc'])\n",
    "test(front_x(['ccc', 'bbb', 'aaa', 'xcc', 'xaa']), \\\n",
    "             ['xaa', 'xcc', 'aaa', 'bbb', 'ccc'])\n",
    "test(front_x(['mix', 'xyz', 'apple', 'xanadu', 'aardvark']), \\\n",
    "             ['xanadu', 'xyz', 'aardvark', 'apple', 'mix'])"
   ]
  },
  {
   "cell_type": "code",
   "execution_count": 8,
   "metadata": {
    "ExecuteTime": {
     "end_time": "2021-04-18T02:56:10.555591Z",
     "start_time": "2021-04-18T02:56:10.540590Z"
    }
   },
   "outputs": [
    {
     "name": "stdout",
     "output_type": "stream",
     "text": [
      "['xd', 'xa', 'xc', 'xb', 'yc', 'yc', 'ya']\n"
     ]
    }
   ],
   "source": [
    "# x开头的字符串排在非x开头的字符串前面\n",
    "def sort_words(words):\n",
    "    start = 0\n",
    "    end = len(words) - 1\n",
    "    while start < end:\n",
    "        while (start < end) and words[start].startswith('x'):\n",
    "            start += 1\n",
    "        while (start < end) and (not words[end].startswith('x')):\n",
    "            end -= 1\n",
    "        if start < end:\n",
    "            words[start], words[end] = words[end], words[start]\n",
    "\n",
    "words = ['ya', 'xa', 'yc', 'xb', 'yc', 'xc', 'xd']\n",
    "sort_words(words)\n",
    "print(words)"
   ]
  },
  {
   "cell_type": "code",
   "execution_count": 9,
   "metadata": {
    "ExecuteTime": {
     "end_time": "2021-04-18T02:56:10.575592Z",
     "start_time": "2021-04-18T02:56:10.563591Z"
    }
   },
   "outputs": [
    {
     "name": "stdout",
     "output_type": "stream",
     "text": [
      "74578272\n",
      "75349664\n",
      "Xbcdefg\n",
      "X,b,c,d,e,f,g\n"
     ]
    }
   ],
   "source": [
    "word = 'Abcdefg'\n",
    "print(id(word))\n",
    "wl = list(word)\n",
    "wl[0] = 'X'\n",
    "word = ''.join(wl)\n",
    "print(id(word))\n",
    "print(word)\n",
    "word = ','.join(wl)\n",
    "print(word)"
   ]
  },
  {
   "cell_type": "code",
   "execution_count": 10,
   "metadata": {
    "ExecuteTime": {
     "end_time": "2021-04-18T02:56:10.598593Z",
     "start_time": "2021-04-18T02:56:10.582592Z"
    }
   },
   "outputs": [
    {
     "data": {
      "text/plain": [
       "[1, 2, 3, 4, 5, 6, 7, 8]"
      ]
     },
     "execution_count": 10,
     "metadata": {},
     "output_type": "execute_result"
    }
   ],
   "source": [
    "s = set([1, 2, 3, 4, 5, 6, 6, 7, 8, 8])\n",
    "l = list(s)\n",
    "l"
   ]
  },
  {
   "cell_type": "code",
   "execution_count": 11,
   "metadata": {
    "ExecuteTime": {
     "end_time": "2021-04-18T02:56:10.624595Z",
     "start_time": "2021-04-18T02:56:10.609594Z"
    }
   },
   "outputs": [
    {
     "data": {
      "text/plain": [
       "['abc', 'def', 'ghi']"
      ]
     },
     "execution_count": 11,
     "metadata": {},
     "output_type": "execute_result"
    }
   ],
   "source": [
    "s = 'abc,+def,+ghi'\n",
    "l = s.split(',+')\n",
    "l"
   ]
  },
  {
   "cell_type": "code",
   "execution_count": 12,
   "metadata": {
    "ExecuteTime": {
     "end_time": "2021-04-18T02:56:10.649596Z",
     "start_time": "2021-04-18T02:56:10.635595Z"
    }
   },
   "outputs": [
    {
     "name": "stdout",
     "output_type": "stream",
     "text": [
      "http://www.baidu.com\n",
      "https://www.sina.com\n"
     ]
    }
   ],
   "source": [
    "urls = ['http://www.baidu.com/?par=xxx', 'https://www.sina.com/news']\n",
    "for url in urls:\n",
    "    parts = url.split('://')\n",
    "    prefix = parts[0]\n",
    "    domain = parts[1].split('/')[0]\n",
    "    # print(prefix, domain)\n",
    "    print('://'.join([prefix, domain]))"
   ]
  },
  {
   "cell_type": "code",
   "execution_count": 13,
   "metadata": {
    "ExecuteTime": {
     "end_time": "2021-04-18T02:56:10.667597Z",
     "start_time": "2021-04-18T02:56:10.656596Z"
    }
   },
   "outputs": [
    {
     "name": "stdout",
     "output_type": "stream",
     "text": [
      "<class 'function'>\n",
      "72\n"
     ]
    }
   ],
   "source": [
    "f = lambda x, y: x * y\n",
    "'''\n",
    "def f(x, y):\n",
    "    return x * y\n",
    "'''\n",
    "print(type(f))\n",
    "print(f(8, 9))"
   ]
  },
  {
   "cell_type": "code",
   "execution_count": 14,
   "metadata": {
    "ExecuteTime": {
     "end_time": "2021-04-18T02:56:10.695599Z",
     "start_time": "2021-04-18T02:56:10.675597Z"
    }
   },
   "outputs": [
    {
     "data": {
      "text/plain": [
       "'\\n练习3：给定一个数组，每个元素是一个元组（不可变数组），按元组最后一个元素的顺序进行排序。\\n'"
      ]
     },
     "execution_count": 14,
     "metadata": {},
     "output_type": "execute_result"
    }
   ],
   "source": [
    "'''\n",
    "练习3：给定一个数组，每个元素是一个元组（不可变数组），按元组最后一个元素的顺序进行排序。\n",
    "'''"
   ]
  },
  {
   "cell_type": "code",
   "execution_count": 15,
   "metadata": {
    "ExecuteTime": {
     "end_time": "2021-04-18T02:56:10.728601Z",
     "start_time": "2021-04-18T02:56:10.702599Z"
    }
   },
   "outputs": [
    {
     "name": "stdout",
     "output_type": "stream",
     "text": [
      "OK got: [(2, 1), (3, 2), (1, 3)] expected: [(2, 1), (3, 2), (1, 3)]\n",
      "OK got: [(3, 1), (1, 2), (2, 3)] expected: [(3, 1), (1, 2), (2, 3)]\n",
      "OK got: [(2, 2), (1, 3), (3, 4, 5), (1, 7)] expected: [(2, 2), (1, 3), (3, 4, 5), (1, 7)]\n"
     ]
    }
   ],
   "source": [
    "'''\n",
    "def sort_last(tuples):\n",
    "    return sorted(tuples, key=lambda t: t[-1])\n",
    "'''\n",
    "\n",
    "def last_item(t):\n",
    "    return t[-1]\n",
    "\n",
    "def sort_last(tuples):\n",
    "    return sorted(tuples, key=last_item)\n",
    "\n",
    "test(sort_last([(1, 3), (3, 2), (2, 1)]), \\\n",
    "               [(2, 1), (3, 2), (1, 3)])\n",
    "test(sort_last([(2, 3), (1, 2), (3, 1)]), \\\n",
    "               [(3, 1), (1, 2), (2, 3)])\n",
    "test(sort_last([(1, 7), (1, 3), (3, 4, 5), (2, 2)]), \\\n",
    "               [(2, 2), (1, 3), (3, 4, 5), (1, 7)])"
   ]
  },
  {
   "cell_type": "code",
   "execution_count": 16,
   "metadata": {
    "ExecuteTime": {
     "end_time": "2021-04-18T02:56:10.749602Z",
     "start_time": "2021-04-18T02:56:10.738601Z"
    }
   },
   "outputs": [
    {
     "data": {
      "text/plain": [
       "'\\n练习4：数组如果有连续相等的元素，则删除只保留一个。\\n'"
      ]
     },
     "execution_count": 16,
     "metadata": {},
     "output_type": "execute_result"
    }
   ],
   "source": [
    "'''\n",
    "练习4：数组如果有连续相等的元素，则删除只保留一个。\n",
    "'''"
   ]
  },
  {
   "cell_type": "code",
   "execution_count": 17,
   "metadata": {
    "ExecuteTime": {
     "end_time": "2021-04-18T02:56:10.767603Z",
     "start_time": "2021-04-18T02:56:10.756602Z"
    }
   },
   "outputs": [
    {
     "name": "stdout",
     "output_type": "stream",
     "text": [
      "OK got: [1, 2, 3] expected: [1, 2, 3]\n",
      "OK got: [2, 3] expected: [2, 3]\n",
      "OK got: [] expected: []\n"
     ]
    }
   ],
   "source": [
    "def remove_adjacent(nums):\n",
    "    result = []\n",
    "    for num in nums:\n",
    "        if (len(result) == 0) or (num != result[-1]):\n",
    "            result.append(num)\n",
    "    return result\n",
    "\n",
    "test(remove_adjacent([1, 2, 2, 3]), [1, 2, 3])\n",
    "test(remove_adjacent([2, 2, 3, 3, 3]), [2, 3])\n",
    "test(remove_adjacent([]), [])"
   ]
  },
  {
   "cell_type": "code",
   "execution_count": 18,
   "metadata": {
    "ExecuteTime": {
     "end_time": "2021-04-18T02:56:10.779603Z",
     "start_time": "2021-04-18T02:56:10.771603Z"
    }
   },
   "outputs": [
    {
     "name": "stdout",
     "output_type": "stream",
     "text": [
      "1563293904\n",
      "<class 'int'>\n",
      "['__abs__', '__add__', '__and__', '__bool__', '__ceil__', '__class__', '__delattr__', '__dir__', '__divmod__', '__doc__', '__eq__', '__float__', '__floor__', '__floordiv__', '__format__', '__ge__', '__getattribute__', '__getnewargs__', '__gt__', '__hash__', '__index__', '__init__', '__init_subclass__', '__int__', '__invert__', '__le__', '__lshift__', '__lt__', '__mod__', '__mul__', '__ne__', '__neg__', '__new__', '__or__', '__pos__', '__pow__', '__radd__', '__rand__', '__rdivmod__', '__reduce__', '__reduce_ex__', '__repr__', '__rfloordiv__', '__rlshift__', '__rmod__', '__rmul__', '__ror__', '__round__', '__rpow__', '__rrshift__', '__rshift__', '__rsub__', '__rtruediv__', '__rxor__', '__setattr__', '__sizeof__', '__str__', '__sub__', '__subclasshook__', '__truediv__', '__trunc__', '__xor__', 'bit_length', 'conjugate', 'denominator', 'from_bytes', 'imag', 'numerator', 'real', 'to_bytes']\n"
     ]
    }
   ],
   "source": [
    "x = 100\n",
    "print(id(x)) # 查看变量的hash\n",
    "print(type(x)) # 查看变量的类型\n",
    "print(dir(x)) # 查看变量的属性和方法"
   ]
  },
  {
   "cell_type": "code",
   "execution_count": 19,
   "metadata": {
    "ExecuteTime": {
     "end_time": "2021-04-18T02:56:10.789604Z",
     "start_time": "2021-04-18T02:56:10.783604Z"
    }
   },
   "outputs": [
    {
     "name": "stdout",
     "output_type": "stream",
     "text": [
      "['__add__', '__class__', '__contains__', '__delattr__', '__delitem__', '__dir__', '__doc__', '__eq__', '__format__', '__ge__', '__getattribute__', '__getitem__', '__gt__', '__hash__', '__iadd__', '__imul__', '__init__', '__init_subclass__', '__iter__', '__le__', '__len__', '__lt__', '__mul__', '__ne__', '__new__', '__reduce__', '__reduce_ex__', '__repr__', '__reversed__', '__rmul__', '__setattr__', '__setitem__', '__sizeof__', '__str__', '__subclasshook__', 'append', 'clear', 'copy', 'count', 'extend', 'index', 'insert', 'pop', 'remove', 'reverse', 'sort']\n"
     ]
    }
   ],
   "source": [
    "x=[1,2]\n",
    "print(dir(x))"
   ]
  },
  {
   "cell_type": "code",
   "execution_count": 20,
   "metadata": {
    "ExecuteTime": {
     "end_time": "2021-04-18T02:56:10.800605Z",
     "start_time": "2021-04-18T02:56:10.793604Z"
    }
   },
   "outputs": [
    {
     "data": {
      "text/plain": [
       "'\\n练习5：合并有序数组为新的有序数组。\\n'"
      ]
     },
     "execution_count": 20,
     "metadata": {},
     "output_type": "execute_result"
    }
   ],
   "source": [
    "'''\n",
    "练习5：合并有序数组为新的有序数组。\n",
    "'''"
   ]
  },
  {
   "cell_type": "code",
   "execution_count": 21,
   "metadata": {
    "ExecuteTime": {
     "end_time": "2021-04-18T02:56:10.820606Z",
     "start_time": "2021-04-18T02:56:10.805605Z"
    }
   },
   "outputs": [
    {
     "name": "stdout",
     "output_type": "stream",
     "text": [
      "OK got: ['aa', 'bb', 'cc', 'xx', 'zz'] expected: ['aa', 'bb', 'cc', 'xx', 'zz']\n",
      "OK got: ['aa', 'bb', 'cc', 'xx', 'zz'] expected: ['aa', 'bb', 'cc', 'xx', 'zz']\n",
      "OK got: ['aa', 'aa', 'aa', 'bb', 'bb'] expected: ['aa', 'aa', 'aa', 'bb', 'bb']\n"
     ]
    }
   ],
   "source": [
    "def linear_merge(li1, li2):\n",
    "    result = []\n",
    "    '''\n",
    "    i, j = 0, 0\n",
    "    while (i < len(li1)) and (j < len(li2)):\n",
    "        if li1[i] <= li2[j]:\n",
    "            result.append(li1[i])\n",
    "            i += 1\n",
    "        else:\n",
    "            result.append(li2[j])\n",
    "            j += 1\n",
    "    if i < len(li1):\n",
    "        result.extend(li1[i:])\n",
    "    if j < len(li2):\n",
    "        result.extend(li2[j:])\n",
    "    '''\n",
    "    while len(li1) and len(li2):\n",
    "        if li1[0] <= li2[0]:\n",
    "            result.append(li1.pop(0))\n",
    "        else:\n",
    "            result.append(li2.pop(0))\n",
    "    result.extend(li1)\n",
    "    result.extend(li2)\n",
    "    return result\n",
    "\n",
    "test(linear_merge(['aa', 'xx', 'zz'], ['bb', 'cc']), \\\n",
    "                  ['aa', 'bb', 'cc', 'xx', 'zz'])\n",
    "test(linear_merge(['aa', 'xx'], ['bb', 'cc', 'zz']), \\\n",
    "                  ['aa', 'bb', 'cc', 'xx', 'zz'])\n",
    "test(linear_merge(['aa', 'aa'], ['aa', 'bb', 'bb']), \\\n",
    "                  ['aa', 'aa', 'aa', 'bb', 'bb'])"
   ]
  },
  {
   "cell_type": "code",
   "execution_count": 22,
   "metadata": {
    "ExecuteTime": {
     "end_time": "2021-04-18T02:56:10.833607Z",
     "start_time": "2021-04-18T02:56:10.824606Z"
    }
   },
   "outputs": [
    {
     "name": "stdout",
     "output_type": "stream",
     "text": [
      "[1, 2, 3, 1, 2, 3, 4]\n"
     ]
    }
   ],
   "source": [
    "a = [1, 2, 3]\n",
    "b = set([1, 2, 3, 4])\n",
    "def extend(a, b):\n",
    "    for i in b:\n",
    "        a.append(i)\n",
    "extend(a, b)\n",
    "print(a)"
   ]
  },
  {
   "cell_type": "code",
   "execution_count": 23,
   "metadata": {
    "ExecuteTime": {
     "end_time": "2021-04-18T02:56:10.846607Z",
     "start_time": "2021-04-18T02:56:10.838607Z"
    }
   },
   "outputs": [
    {
     "data": {
      "text/plain": [
       "'\\n练习6：利用yield模拟range实现\\n'"
      ]
     },
     "execution_count": 23,
     "metadata": {},
     "output_type": "execute_result"
    }
   ],
   "source": [
    "'''\n",
    "练习6：利用yield模拟range实现\n",
    "'''"
   ]
  },
  {
   "cell_type": "code",
   "execution_count": 24,
   "metadata": {
    "ExecuteTime": {
     "end_time": "2021-04-18T02:56:10.860608Z",
     "start_time": "2021-04-18T02:56:10.851608Z"
    }
   },
   "outputs": [
    {
     "name": "stdout",
     "output_type": "stream",
     "text": [
      "10\n",
      "13\n",
      "16\n",
      "19\n"
     ]
    }
   ],
   "source": [
    "def myrange(start, end, steps=1):\n",
    "    i = start\n",
    "    while i < end:\n",
    "        yield i\n",
    "        i += steps\n",
    "    return 'done'\n",
    "\n",
    "'''\n",
    "for i in myrange(10, 20, 3):\n",
    "    print(i)\n",
    "'''\n",
    "for i in myrange(10, 20, 3):\n",
    "    print(i)\n"
   ]
  },
  {
   "cell_type": "code",
   "execution_count": 25,
   "metadata": {
    "ExecuteTime": {
     "end_time": "2021-04-18T02:56:10.872609Z",
     "start_time": "2021-04-18T02:56:10.865608Z"
    }
   },
   "outputs": [
    {
     "name": "stdout",
     "output_type": "stream",
     "text": [
      "zzzzz\n"
     ]
    }
   ],
   "source": [
    "class MyClass:\n",
    "    def __init__(self, x):\n",
    "        self.x = x\n",
    "        \n",
    "    def __str__(self):\n",
    "        return str(self.x) * 5\n",
    "    \n",
    "c = MyClass('z')\n",
    "print(c)"
   ]
  },
  {
   "cell_type": "code",
   "execution_count": 26,
   "metadata": {
    "ExecuteTime": {
     "end_time": "2021-04-18T02:56:10.884609Z",
     "start_time": "2021-04-18T02:56:10.876609Z"
    }
   },
   "outputs": [
    {
     "data": {
      "text/plain": [
       "'\\n练习7：利用yield模拟readlines实现\\n'"
      ]
     },
     "execution_count": 26,
     "metadata": {},
     "output_type": "execute_result"
    }
   ],
   "source": [
    "'''\n",
    "练习7：利用yield模拟readlines实现\n",
    "'''"
   ]
  },
  {
   "cell_type": "code",
   "execution_count": 27,
   "metadata": {
    "ExecuteTime": {
     "end_time": "2021-04-18T02:56:10.904611Z",
     "start_time": "2021-04-18T02:56:10.889610Z"
    }
   },
   "outputs": [
    {
     "name": "stdout",
     "output_type": "stream",
     "text": [
      "Amid rising global trade tensions and domestic economic rebalancing, the World Bank assesses the evolution of China's foreign trade positively, and is \"very impressed\" with China's efforts to boost foreign trade, a World Bank economist has said.\n",
      "\n",
      "China's foreign trade rose 9.9 percent year-on-year to 22.28 trillion yuan ($3.2 trillion) during the January-September period. Exports increased 6.5 percent in the period while imports grew 14.1 percent, resulting in a trade surplus of 1.44 trillion yuan, which narrowed by 28.3 percent.\n",
      "\n",
      "\"We do not see that as an imbalance,\" John Litwack, World Bank lead economist for China, told Xinhua in a recent interview, referring to the export and import growth rates. \"We think that it is quite normal at this point in time.\"\n",
      "\n",
      "The rapid export-led growth of the past relied on China occupying an increasingly larger share of world exports, he said.\n",
      "\n",
      "\"In the current period of rebalancing and world trade tensions, this is likely no longer feasible for political as well as economic reasons.\"\n",
      "\n",
      "Noting that a steady weakening of China's trade balance as \"a natural part\" of the rebalancing process, the economist said: \"We don't think that a shrinking trade balance is something for China to worry about right now.\"\n",
      "\n",
      "A weaker trade balance can even be helpful in preventing the value of the renminbi from becoming too strong and thereby hurting the competitiveness of domestic producers, he added.\n",
      "\n",
      "Meanwhile, Litwack cautioned China of rising global trade tensions, saying \"the current world political situation cannot be ignored\".\n"
     ]
    },
    {
     "data": {
      "text/plain": [
       "\"\\nwith open('small.txt', 'r') as f:\\n    for line in readlines(f):\\n        print(line)\\n\""
      ]
     },
     "execution_count": 27,
     "metadata": {},
     "output_type": "execute_result"
    }
   ],
   "source": [
    "def readlines(f):\n",
    "    line = f.readline()\n",
    "    while line:\n",
    "        yield line.strip()\n",
    "        line = f.readline()\n",
    "\n",
    "f = open('./trade.txt', 'r')\n",
    "try:\n",
    "    for line in readlines(f):\n",
    "        print(line)\n",
    "except:\n",
    "    pass\n",
    "finally:\n",
    "    if f:\n",
    "        f.close()\n",
    "\n",
    "'''\n",
    "with open('small.txt', 'r') as f:\n",
    "    for line in readlines(f):\n",
    "        print(line)\n",
    "'''"
   ]
  },
  {
   "cell_type": "code",
   "execution_count": 28,
   "metadata": {
    "ExecuteTime": {
     "end_time": "2021-04-18T02:56:10.921612Z",
     "start_time": "2021-04-18T02:56:10.910611Z"
    }
   },
   "outputs": [
    {
     "data": {
      "text/plain": [
       "'\\n练习8：利用马尔科夫链模拟自动文本生成\\n'"
      ]
     },
     "execution_count": 28,
     "metadata": {},
     "output_type": "execute_result"
    }
   ],
   "source": [
    "'''\n",
    "练习8：利用马尔科夫链模拟自动文本生成\n",
    "'''"
   ]
  },
  {
   "cell_type": "code",
   "execution_count": 29,
   "metadata": {
    "ExecuteTime": {
     "end_time": "2021-04-18T02:56:10.947613Z",
     "start_time": "2021-04-18T02:56:10.927612Z"
    }
   },
   "outputs": [
    {
     "name": "stdout",
     "output_type": "stream",
     "text": [
      "['trade']\n",
      "['positively,', 'surplus', 'tensions', 'balance', 'tensions,', 'rose']\n",
      "['and']\n",
      "['domestic', 'import', 'world', 'thereby', 'is']\n",
      "['trade', 'political', 'exports,']\n",
      "['positively,', 'surplus', 'tensions', 'balance', 'tensions,', 'rose']\n",
      "['and']\n",
      "['domestic', 'import', 'world', 'thereby', 'is']\n",
      "['trade', 'political', 'exports,']\n",
      "['as', 'situation']\n",
      "['cannot']\n",
      "['be']\n",
      "['ignored\".', 'helpful']\n",
      "['Amid']\n",
      "['rising']\n",
      "['global']\n",
      "['trade']\n",
      "['positively,', 'surplus', 'tensions', 'balance', 'tensions,', 'rose']\n",
      "['and']\n",
      "['domestic', 'import', 'world', 'thereby', 'is']\n",
      "['economic', 'producers,']\n",
      "['he']\n",
      "['said.', 'added.']\n",
      "['Meanwhile,']\n",
      "global trade positively, and world trade positively, and world political situation cannot be ignored\". Amid rising global trade tensions and domestic producers, he added. Meanwhile,\n"
     ]
    }
   ],
   "source": [
    "import random\n",
    "\n",
    "#{'': {'Amid'}, 'Amid': {'rising'}, 'rising': {'global'}, 'global': {'trade'}, \n",
    "#'trade': {'balance', 'positively,', 'rose', 'tensions,', 'tensions', 'surplus'}, 'tensions': {'and'}\n",
    "def build_dict(filename):\n",
    "    di = {}\n",
    "    with open(filename, 'r') as f:\n",
    "        text = f.read()\n",
    "    words = text.split()\n",
    "    prev = ''\n",
    "    for word in words:\n",
    "        if prev not in di:\n",
    "            di[prev] = set([word])\n",
    "        else:\n",
    "            di[prev].add(word)\n",
    "        prev = word\n",
    "    for k, v in di.items():\n",
    "        di[k] = list(v)\n",
    "    return di\n",
    "\n",
    "def write_doc(di, word):\n",
    "    words = [word]\n",
    "    for i in range(1, 25):\n",
    "        '''\n",
    "        if word in di:\n",
    "            choices = di[word]\n",
    "        else:\n",
    "            choices = di['']\n",
    "        '''\n",
    "        choices = di[word] if word in di else di['']\n",
    "        print(choices)\n",
    "        word = random.choice(choices)\n",
    "        words.append(word)\n",
    "    print(' '.join(words))\n",
    "        \n",
    "    \n",
    "di = build_dict('trade.txt')\n",
    "# print(di)\n",
    "write_doc(di, 'global')"
   ]
  },
  {
   "cell_type": "code",
   "execution_count": 30,
   "metadata": {
    "ExecuteTime": {
     "end_time": "2021-04-18T02:56:10.958614Z",
     "start_time": "2021-04-18T02:56:10.952613Z"
    }
   },
   "outputs": [],
   "source": [
    "# 练习9：给出一串整数流和窗口大小，计算滑动窗口中所有整数的平均值。"
   ]
  },
  {
   "cell_type": "code",
   "execution_count": 31,
   "metadata": {
    "ExecuteTime": {
     "end_time": "2021-04-18T02:56:10.975615Z",
     "start_time": "2021-04-18T02:56:10.963614Z"
    }
   },
   "outputs": [
    {
     "name": "stdout",
     "output_type": "stream",
     "text": [
      "0.0\n",
      "0.3333333333333333\n",
      "1.0\n",
      "2.0\n",
      "3.0\n",
      "4.0\n",
      "5.0\n",
      "6.0\n",
      "7.0\n",
      "8.0\n"
     ]
    }
   ],
   "source": [
    "#循环队列实现滑动平均算法\n",
    "class MovingAverage:\n",
    "    def __init__(self, size):\n",
    "        self.size = size        #滑动窗口大小\n",
    "        self.queue= [0]*size\n",
    "        self.total=0            #窗口内元素总的值\n",
    "        self.start=0            #队首位置\n",
    "    def next(self, val):\n",
    "        self.total+=val         #新元素的值累加\n",
    "        self.total-=self.queue[self.start]  #原来元素的值减掉\n",
    "        self.queue[self.start]=val          #放入到队首\n",
    "        self.start+=1                       #队首位置加1\n",
    "        self.start%=self.size\n",
    "        return self.total/len(self.queue)\n",
    "        \n",
    "ma = MovingAverage(3)\n",
    "for i in range(10):\n",
    "    print(ma.next(i))"
   ]
  },
  {
   "cell_type": "code",
   "execution_count": 32,
   "metadata": {
    "ExecuteTime": {
     "end_time": "2021-04-18T02:56:10.990615Z",
     "start_time": "2021-04-18T02:56:10.980615Z"
    }
   },
   "outputs": [
    {
     "data": {
      "text/plain": [
       "[7, 6, 5, 4, 3, 2, 1]"
      ]
     },
     "execution_count": 32,
     "metadata": {},
     "output_type": "execute_result"
    }
   ],
   "source": [
    "a = [1, 2, 3, 4, 5, 6, 7]\n",
    "a[::-1] # 利用切片反转数组"
   ]
  },
  {
   "cell_type": "code",
   "execution_count": 33,
   "metadata": {
    "ExecuteTime": {
     "end_time": "2021-04-18T02:56:11.003616Z",
     "start_time": "2021-04-18T02:56:10.995616Z"
    }
   },
   "outputs": [
    {
     "data": {
      "text/plain": [
       "[0, 0, 0, 0, 0, 1, 1, 1, 1, 1]"
      ]
     },
     "execution_count": 33,
     "metadata": {},
     "output_type": "execute_result"
    }
   ],
   "source": [
    "[0] * 5 + [1] * 5 # 快速生成数组"
   ]
  },
  {
   "cell_type": "code",
   "execution_count": 34,
   "metadata": {
    "ExecuteTime": {
     "end_time": "2021-04-18T02:56:11.019617Z",
     "start_time": "2021-04-18T02:56:11.008617Z"
    }
   },
   "outputs": [
    {
     "data": {
      "text/plain": [
       "[1, 4, 9, 16, 25]"
      ]
     },
     "execution_count": 34,
     "metadata": {},
     "output_type": "execute_result"
    }
   ],
   "source": [
    "a = [1, 2, 3, 4, 5]\n",
    "[i * i for i in a] # 列表推导"
   ]
  },
  {
   "cell_type": "code",
   "execution_count": 35,
   "metadata": {
    "ExecuteTime": {
     "end_time": "2021-04-18T02:56:11.033618Z",
     "start_time": "2021-04-18T02:56:11.024617Z"
    }
   },
   "outputs": [
    {
     "data": {
      "text/plain": [
       "[0, 105, 210, 315, 420, 525, 630, 735, 840, 945]"
      ]
     },
     "execution_count": 35,
     "metadata": {},
     "output_type": "execute_result"
    }
   ],
   "source": [
    "[i for i in range(1000) if (i % 3 == 0) and (i % 5 == 0) and (i % 7 == 0)] # 列表推导加筛选条件"
   ]
  },
  {
   "cell_type": "code",
   "execution_count": 36,
   "metadata": {
    "ExecuteTime": {
     "end_time": "2021-04-18T02:56:11.045619Z",
     "start_time": "2021-04-18T02:56:11.037618Z"
    }
   },
   "outputs": [
    {
     "name": "stdout",
     "output_type": "stream",
     "text": [
      "74554440\n",
      "74754632\n",
      "75327432\n",
      "[[0, 0, 0], [0, 100, 0], [0, 0, 0]]\n"
     ]
    }
   ],
   "source": [
    "# a = [[0, 0, 0]] * 3\n",
    "a = [[0, 0, 0] for i in range(3)] # 二维数组的快速初始化\n",
    "print(id(a[0]))\n",
    "print(id(a[1]))\n",
    "print(id(a[2]))\n",
    "a[1][1] = 100\n",
    "print(a)"
   ]
  },
  {
   "cell_type": "code",
   "execution_count": 37,
   "metadata": {
    "ExecuteTime": {
     "end_time": "2021-04-18T02:56:11.063620Z",
     "start_time": "2021-04-18T02:56:11.050619Z"
    }
   },
   "outputs": [
    {
     "name": "stdout",
     "output_type": "stream",
     "text": [
      "399\n",
      "29900\n"
     ]
    }
   ],
   "source": [
    "def func(f, x, y): # 利用函数做参数\n",
    "    return f(x, y)\n",
    "\n",
    "print(func(lambda x, y: x + y, 100, 299))\n",
    "print(func(lambda x, y: x * y, 100, 299))"
   ]
  },
  {
   "cell_type": "code",
   "execution_count": 38,
   "metadata": {
    "ExecuteTime": {
     "end_time": "2021-04-18T02:56:11.080621Z",
     "start_time": "2021-04-18T02:56:11.069620Z"
    }
   },
   "outputs": [
    {
     "name": "stdout",
     "output_type": "stream",
     "text": [
      "func\n",
      "<class 'tuple'>\n",
      "<class 'dict'>\n",
      "(100, 200, 300)\n",
      "{'x': 1, 'y': 2}\n"
     ]
    }
   ],
   "source": [
    "def func(*args, **kws):\n",
    "    print(type(args))\n",
    "    print(type(kws))\n",
    "    print(args)\n",
    "    print(kws)\n",
    "    \n",
    "def log(f, *args, **kws):\n",
    "    print(f.__name__)      #函数的名字\n",
    "    f(*args, **kws)\n",
    "\n",
    "log(func, 100, 200, 300, x=1, y=2)"
   ]
  },
  {
   "cell_type": "code",
   "execution_count": 39,
   "metadata": {
    "ExecuteTime": {
     "end_time": "2021-04-18T02:56:11.093621Z",
     "start_time": "2021-04-18T02:56:11.085621Z"
    }
   },
   "outputs": [
    {
     "name": "stdout",
     "output_type": "stream",
     "text": [
      "call now():\n",
      "2015-3-25\n"
     ]
    }
   ],
   "source": [
    "#装饰器\n",
    "def log(func):\n",
    "    def wrapper(*args, **kw):\n",
    "        print('call %s():' % func.__name__)\n",
    "        return func(*args, **kw)\n",
    "    return wrapper\n",
    "\n",
    "@log\n",
    "def now():\n",
    "    print('2015-3-25')\n",
    "\n",
    "now()"
   ]
  },
  {
   "cell_type": "code",
   "execution_count": 40,
   "metadata": {
    "ExecuteTime": {
     "end_time": "2021-04-18T02:56:11.109622Z",
     "start_time": "2021-04-18T02:56:11.099622Z"
    }
   },
   "outputs": [
    {
     "name": "stdout",
     "output_type": "stream",
     "text": [
      "execute now():\n",
      "2015-3-25\n",
      "now\n"
     ]
    }
   ],
   "source": [
    "import functools\n",
    "#带参数的装饰器 #now = log('execute')(now)\n",
    "def log(text):\n",
    "    def decorator(func):\n",
    "        @functools.wraps(func)\n",
    "        def wrapper(*args, **kw):\n",
    "            print('%s %s():' % (text,func.__name__))\n",
    "            return func(*args, **kw)\n",
    "        return wrapper\n",
    "    return decorator\n",
    "\n",
    "@log('execute')\n",
    "def now():\n",
    "    print('2015-3-25')\n",
    "\n",
    "now()\n",
    "print(now.__name__)"
   ]
  },
  {
   "cell_type": "code",
   "execution_count": 41,
   "metadata": {
    "ExecuteTime": {
     "end_time": "2021-04-18T02:56:11.130624Z",
     "start_time": "2021-04-18T02:56:11.116623Z"
    }
   },
   "outputs": [
    {
     "name": "stdout",
     "output_type": "stream",
     "text": [
      "300\n",
      "500\n",
      "500\n",
      "700\n"
     ]
    }
   ],
   "source": [
    "def f(x, y): return x + y\n",
    "\n",
    "#装饰器\n",
    "def high_f(f, x, y):\n",
    "    def wrapper():\n",
    "        return f(x, y)\n",
    "    return wrapper\n",
    "\n",
    "#固定部分参数\n",
    "def partial_f(f, x): # 偏函数的实现\n",
    "    def wrapper(y):\n",
    "        return f(x,y)\n",
    "    return wrapper\n",
    "\n",
    "f1 = high_f(f, 100, 200)\n",
    "f2 = high_f(f, 200, 300)\n",
    "print(f1())\n",
    "print(f2())\n",
    "fp1 = partial_f(f, 200)\n",
    "print(fp1(300))\n",
    "print(fp1(500))"
   ]
  },
  {
   "cell_type": "code",
   "execution_count": 42,
   "metadata": {
    "ExecuteTime": {
     "end_time": "2021-04-18T02:56:11.145624Z",
     "start_time": "2021-04-18T02:56:11.135624Z"
    }
   },
   "outputs": [
    {
     "name": "stdout",
     "output_type": "stream",
     "text": [
      "log fadd\n",
      "300\n",
      "log fmul\n",
      "20000\n"
     ]
    }
   ],
   "source": [
    "def log(f):\n",
    "    def wrapper(*args, **kws):\n",
    "        '''\n",
    "        print('log %s' % f.__name__)\n",
    "        return f(*args, **kws)\n",
    "        '''\n",
    "        r = f(*args, **kws)\n",
    "        print('log %s' % f.__name__)\n",
    "        return r\n",
    "    return wrapper\n",
    "\n",
    "@log\n",
    "def fadd(x, y): return x + y\n",
    "\n",
    "@log\n",
    "def fmul(x, y): return x * y\n",
    "\n",
    "# log_fadd = log(fadd)\n",
    "print(fadd(100, 200))\n",
    "print(fmul(100, 200))"
   ]
  },
  {
   "cell_type": "code",
   "execution_count": 43,
   "metadata": {
    "ExecuteTime": {
     "end_time": "2021-04-18T02:56:11.160625Z",
     "start_time": "2021-04-18T02:56:11.150625Z"
    }
   },
   "outputs": [
    {
     "data": {
      "text/plain": [
       "'\\n练习9：动态添加属性统计递归调用次数\\n'"
      ]
     },
     "execution_count": 43,
     "metadata": {},
     "output_type": "execute_result"
    }
   ],
   "source": [
    "'''\n",
    "练习9：动态添加属性统计递归调用次数\n",
    "'''"
   ]
  },
  {
   "cell_type": "code",
   "execution_count": 44,
   "metadata": {
    "ExecuteTime": {
     "end_time": "2021-04-18T02:56:11.175626Z",
     "start_time": "2021-04-18T02:56:11.165626Z"
    }
   },
   "outputs": [
    {
     "name": "stdout",
     "output_type": "stream",
     "text": [
      "3\n",
      "5\n"
     ]
    }
   ],
   "source": [
    "def fib(n):\n",
    "    # fib.times += 1\n",
    "    '''\n",
    "    if hasattr(fib, 'times'):\n",
    "        fib.times += 1\n",
    "    '''\n",
    "    times = getattr(fib, 'times', 0)\n",
    "    setattr(fib, 'times', times + 1)\n",
    "    if (n == 1) or (n == 2):\n",
    "        return 1\n",
    "    else:\n",
    "        return fib(n - 1) + fib(n - 2)\n",
    "\n",
    "# fib.times = 0\n",
    "print(fib(4))\n",
    "print(fib.times)"
   ]
  },
  {
   "cell_type": "code",
   "execution_count": 45,
   "metadata": {
    "ExecuteTime": {
     "end_time": "2021-04-18T02:56:11.187627Z",
     "start_time": "2021-04-18T02:56:11.179626Z"
    }
   },
   "outputs": [
    {
     "name": "stdout",
     "output_type": "stream",
     "text": [
      "3\n",
      "5\n"
     ]
    }
   ],
   "source": [
    "def fib(n):\n",
    "    fib.times += 1\n",
    "    if (n == 1) or (n == 2):\n",
    "        return 1\n",
    "    else:\n",
    "        return fib(n - 1) + fib(n - 2)\n",
    "\n",
    "fib.times = 0\n",
    "print(fib(4))\n",
    "print(fib.times)"
   ]
  },
  {
   "cell_type": "code",
   "execution_count": 46,
   "metadata": {
    "ExecuteTime": {
     "end_time": "2021-04-18T02:56:11.204628Z",
     "start_time": "2021-04-18T02:56:11.192627Z"
    }
   },
   "outputs": [
    {
     "name": "stdout",
     "output_type": "stream",
     "text": [
      "1 2 100\n",
      "zzz\n",
      "xxx\n"
     ]
    }
   ],
   "source": [
    "class MyClass:\n",
    "    def __init__(self, x, y):\n",
    "        self.x = x\n",
    "        self.y = y\n",
    "\n",
    "a = MyClass(1, 2)\n",
    "b = MyClass(3, 4)\n",
    "a.z = 100 # 动态添加属性\n",
    "print(a.x, a.y, a.z)\n",
    "# print(b.z) # b没有z，报错！\n",
    "print(getattr(b, 'z', 'zzz'))\n",
    "setattr(b, 'z', 'xxx')\n",
    "print(b.z)"
   ]
  },
  {
   "cell_type": "code",
   "execution_count": 51,
   "metadata": {
    "ExecuteTime": {
     "end_time": "2021-04-18T02:57:45.767036Z",
     "start_time": "2021-04-18T02:57:45.751035Z"
    }
   },
   "outputs": [
    {
     "name": "stdout",
     "output_type": "stream",
     "text": [
      "news\n",
      "news\n",
      "news\n",
      "news\n",
      "news\n"
     ]
    }
   ],
   "source": [
    "# 观察者模式，自己补全测试用例。\n",
    "class NewsCenter:\n",
    "    def __init__(self):\n",
    "        self.reporters = []\n",
    "        \n",
    "    def register(self, reporter):\n",
    "        self.reporters.append(reporter)\n",
    "            \n",
    "    def notify(self, message):\n",
    "        for reporter in self.reporters:\n",
    "            reporter.notify(message)\n",
    "            \n",
    "class Reporter:\n",
    "    def register(self, nc):\n",
    "        nc.register(self)\n",
    "        \n",
    "    def notify(self, message):\n",
    "        print(message)\n",
    "        \n",
    "reporters = [Reporter()] * 5\n",
    "nc = NewsCenter()\n",
    "for r in reporters:\n",
    "    r.register(nc)\n",
    "nc.notify('news')"
   ]
  },
  {
   "cell_type": "code",
   "execution_count": null,
   "metadata": {
    "ExecuteTime": {
     "end_time": "2021-04-18T02:56:11.228629Z",
     "start_time": "2021-04-18T02:56:10.696Z"
    }
   },
   "outputs": [],
   "source": [
    "'''\n",
    "练习10：map/reduce使用\n",
    "'''"
   ]
  },
  {
   "cell_type": "code",
   "execution_count": 52,
   "metadata": {
    "ExecuteTime": {
     "end_time": "2021-04-18T02:57:50.684318Z",
     "start_time": "2021-04-18T02:57:50.675317Z"
    }
   },
   "outputs": [
    {
     "name": "stdout",
     "output_type": "stream",
     "text": [
      "[1, 4, 9, 16, 25]\n"
     ]
    }
   ],
   "source": [
    "def square(x): return x * x\n",
    "r = map(square, [1, 2, 3, 4, 5])\n",
    "print(list(r))"
   ]
  },
  {
   "cell_type": "code",
   "execution_count": 53,
   "metadata": {
    "ExecuteTime": {
     "end_time": "2021-04-18T02:57:52.458419Z",
     "start_time": "2021-04-18T02:57:52.445418Z"
    }
   },
   "outputs": [
    {
     "data": {
      "text/plain": [
       "15"
      ]
     },
     "execution_count": 53,
     "metadata": {},
     "output_type": "execute_result"
    }
   ],
   "source": [
    "from functools import reduce\n",
    "\n",
    "r = reduce(lambda x, y: x + y, [1, 2, 3, 4, 5])\n",
    "r"
   ]
  },
  {
   "cell_type": "code",
   "execution_count": 54,
   "metadata": {
    "ExecuteTime": {
     "end_time": "2021-04-18T02:57:54.677546Z",
     "start_time": "2021-04-18T02:57:54.667545Z"
    }
   },
   "outputs": [
    {
     "data": {
      "text/plain": [
       "100"
      ]
     },
     "execution_count": 54,
     "metadata": {},
     "output_type": "execute_result"
    }
   ],
   "source": [
    "x = 100\n",
    "y = 200\n",
    "x if x < y else y"
   ]
  },
  {
   "cell_type": "code",
   "execution_count": 55,
   "metadata": {
    "ExecuteTime": {
     "end_time": "2021-04-18T02:57:56.398644Z",
     "start_time": "2021-04-18T02:57:56.383644Z"
    }
   },
   "outputs": [
    {
     "data": {
      "text/plain": [
       "[1, 4, 7]"
      ]
     },
     "execution_count": 55,
     "metadata": {},
     "output_type": "execute_result"
    }
   ],
   "source": [
    "r = map(min, [[1, 2, 3], [4, 5, 6], [7, 8, 9]])\n",
    "r = list(r)\n",
    "r"
   ]
  },
  {
   "cell_type": "code",
   "execution_count": 56,
   "metadata": {
    "ExecuteTime": {
     "end_time": "2021-04-18T02:57:58.044739Z",
     "start_time": "2021-04-18T02:57:58.029738Z"
    }
   },
   "outputs": [
    {
     "data": {
      "text/plain": [
       "[1, 4, 7]"
      ]
     },
     "execution_count": 56,
     "metadata": {},
     "output_type": "execute_result"
    }
   ],
   "source": [
    "def mymap(f, li):\n",
    "    r = []\n",
    "    for i in li:\n",
    "        r.append(f(i))\n",
    "    return r\n",
    "\n",
    "r = mymap(min, [[1, 2, 3], [4, 5, 6], [7, 8, 9]])\n",
    "r"
   ]
  },
  {
   "cell_type": "code",
   "execution_count": 57,
   "metadata": {
    "ExecuteTime": {
     "end_time": "2021-04-18T02:57:59.863843Z",
     "start_time": "2021-04-18T02:57:59.852842Z"
    }
   },
   "outputs": [
    {
     "data": {
      "text/plain": [
       "1"
      ]
     },
     "execution_count": 57,
     "metadata": {},
     "output_type": "execute_result"
    }
   ],
   "source": [
    "r = reduce(min, r)\n",
    "r"
   ]
  },
  {
   "cell_type": "code",
   "execution_count": 58,
   "metadata": {
    "ExecuteTime": {
     "end_time": "2021-04-18T02:58:01.491936Z",
     "start_time": "2021-04-18T02:58:01.485935Z"
    }
   },
   "outputs": [],
   "source": [
    "import os\n",
    "import sys"
   ]
  },
  {
   "cell_type": "code",
   "execution_count": 59,
   "metadata": {
    "ExecuteTime": {
     "end_time": "2021-04-18T02:58:02.872015Z",
     "start_time": "2021-04-18T02:58:02.860014Z"
    }
   },
   "outputs": [
    {
     "name": "stdout",
     "output_type": "stream",
     "text": [
      "nt\n",
      "environ({'#ENVTSLOGSHELLEXT3632': '173760208', '#ENVTSLOGSSS3632': '37058480', '#ENVTSLOGXMEDIALIBRARY3632': '172662336', 'ALLUSERSPROFILE': 'C:\\\\ProgramData', 'APPDATA': 'C:\\\\Users\\\\Administrator\\\\AppData\\\\Roaming', 'COMMONPROGRAMFILES': 'C:\\\\Program Files\\\\Common Files', 'COMMONPROGRAMFILES(X86)': 'C:\\\\Program Files (x86)\\\\Common Files', 'COMMONPROGRAMW6432': 'C:\\\\Program Files\\\\Common Files', 'COMPUTERNAME': 'D8DVFO1IG8TUOH7', 'COMSPEC': 'C:\\\\Windows\\\\system32\\\\cmd.exe', 'CUDA_BIN_PATH': 'C:\\\\Program Files\\\\NVIDIA GPU Computing Toolkit\\\\CUDA\\\\v10.1\\\\bin', 'CUDA_LIB_PATH': 'C:\\\\Program Files\\\\NVIDIA GPU Computing Toolkit\\\\CUDA\\\\v10.1\\\\lib\\\\x64', 'CUDA_PATH': 'C:\\\\Program Files\\\\NVIDIA GPU Computing Toolkit\\\\CUDA\\\\v10.1', 'CUDA_PATH_V10_1': 'C:\\\\Program Files\\\\NVIDIA GPU Computing Toolkit\\\\CUDA\\\\v10.1', 'CURL_HOME': 'C:\\\\Users\\\\Administrator\\\\Downloads\\\\curl-7.61.1-win64-mingw', 'FP_NO_HOST_CHECK': 'NO', 'HOMEDRIVE': 'C:', 'HOMEPATH': '\\\\Users\\\\Administrator', 'INTELLIJ IDEA COMMUNITY EDITION': 'C:\\\\Program Files\\\\JetBrains\\\\IntelliJ IDEA Community Edition 2019.1.3\\\\bin;', 'JAVA_HOME': 'C:\\\\Program Files\\\\Java\\\\jdk-12.0.1', 'LOCALAPPDATA': 'C:\\\\Users\\\\Administrator\\\\AppData\\\\Local', 'LOGONSERVER': '\\\\\\\\D8DVFO1IG8TUOH7', 'NUMBER_OF_PROCESSORS': '8', 'NVCUDASAMPLES10_1_ROOT': 'C:\\\\ProgramData\\\\NVIDIA Corporation\\\\CUDA Samples\\\\v10.1', 'NVCUDASAMPLES_ROOT': 'C:\\\\ProgramData\\\\NVIDIA Corporation\\\\CUDA Samples\\\\v10.1', 'NVTOOLSEXT_PATH': 'C:\\\\Program Files\\\\NVIDIA Corporation\\\\NvToolsExt\\\\', 'ONEDRIVE': 'C:\\\\Users\\\\Administrator\\\\OneDrive', 'OS': 'Windows_NT', 'PATH': 'C:\\\\ProgramData\\\\Anaconda3\\\\Library\\\\bin;C:\\\\ProgramData\\\\Anaconda3\\\\Library\\\\bin;C:\\\\ProgramData\\\\Anaconda3;C:\\\\ProgramData\\\\Anaconda3\\\\Library\\\\mingw-w64\\\\bin;C:\\\\ProgramData\\\\Anaconda3\\\\Library\\\\usr\\\\bin;C:\\\\ProgramData\\\\Anaconda3\\\\Library\\\\bin;C:\\\\ProgramData\\\\Anaconda3\\\\Scripts;C:\\\\ProgramData\\\\Anaconda3\\\\Library\\\\bin;C:\\\\Perl64\\\\site\\\\bin;C:\\\\Perl64\\\\bin;C:\\\\Program Files\\\\NVIDIA GPU Computing Toolkit\\\\CUDA\\\\v10.1\\\\bin;C:\\\\Program Files\\\\NVIDIA GPU Computing Toolkit\\\\CUDA\\\\v10.1\\\\libnvvp;C:\\\\Windows\\\\system32;C:\\\\Windows;C:\\\\Windows\\\\System32\\\\Wbem;C:\\\\Windows\\\\System32\\\\WindowsPowerShell\\\\v1.0\\\\;C:\\\\Program Files\\\\Graphviz 2.41.20180603.0423\\\\bin;C:\\\\Python27;C:\\\\Program Files\\\\PuTTY\\\\;C:\\\\Users\\\\Administrator\\\\AppData\\\\Local\\\\Google\\\\Chrome\\\\Application;C:\\\\Program Files\\\\MiKTeX 2.9\\\\miktex\\\\bin\\\\x64\\\\;C:\\\\Program Files\\\\Pandoc\\\\;C:\\\\Program Files\\\\Java\\\\jdk-12.0.1\\\\bin;C:\\\\Program Files (x86)\\\\NVIDIA Corporation\\\\PhysX\\\\Common;C:\\\\Program Files\\\\NVIDIA GPU Computing Toolkit\\\\CUDA\\\\v10.1\\\\bin;C:\\\\Program Files\\\\NVIDIA GPU Computing Toolkit\\\\CUDA\\\\v10.1\\\\libnvvp;C:\\\\Program Files\\\\NVIDIA GPU Computing Toolkit\\\\CUDA\\\\v10.1\\\\lib\\\\x64;C:\\\\Program Files\\\\NVIDIA GPU Computing Toolkit\\\\CUDA\\\\v10.1\\\\extras\\\\CUPTI\\\\lib64;C:\\\\Program Files\\\\NVIDIA GPU Computing Toolkit\\\\CUDA\\\\v10.1\\\\bin;C:\\\\Program Files\\\\NVIDIA GPU Computing Toolkit\\\\CUDA\\\\v10.1\\\\lib\\\\x64；C:\\\\Program Files\\\\NVIDIA GPU Computing Toolkit\\\\CUDA\\\\v10.1；D:\\\\迅雷下载\\\\node-v12.7.0-darwin-x64\\\\bin；D:\\\\迅雷下载;D:\\\\迅雷下载\\\\no;e-v12.7.0-darwin-x64\\\\bin;C:\\\\Program Files\\\\nodejs\\\\;D:\\\\迅雷下载\\\\apache-maven-3.6.1-bin\\\\apache-maven-3.6.1\\\\bin;C:\\\\;sers\\\\Administrator\\\\AppData\\\\Local\\\\Programs\\\\Python\\\\Python36\\\\Scripts;C:\\\\Users\\\\Administrator\\\\Downloads\\\\curl-7.61.1-win64-mingw\\\\bin;C:\\\\Program Files\\\\Git\\\\cmd；D:\\\\Download\\\\docker-17.09.0-ce\\\\docker;C:\\\\Program Files (x86)\\\\Windows Kits\\\\8.1\\\\Windows Performance Toolkit\\\\;C:\\\\Strawberry\\\\c\\\\bin;C:\\\\Strawberry\\\\perl\\\\site\\\\bin;C:\\\\Strawberry\\\\perl\\\\bin;C:\\\\Users\\\\Administrator\\\\AppData\\\\Roaming\\\\npm；D:\\\\Download\\\\docker-17.09.0-ce\\\\docker;C:\\\\Users\\\\Administrator\\\\AppData\\\\Local\\\\Programs\\\\Microsoft VS Code\\\\bin', 'PATHEXT': '.COM;.EXE;.BAT;.CMD;.VBS;.VBE;.JS;.JSE;.WSF;.WSH;.MSC', 'PROCESSOR_ARCHITECTURE': 'AMD64', 'PROCESSOR_IDENTIFIER': 'Intel64 Family 6 Model 60 Stepping 3, GenuineIntel', 'PROCESSOR_LEVEL': '6', 'PROCESSOR_REVISION': '3c03', 'PROGRAMDATA': 'C:\\\\ProgramData', 'PROGRAMFILES': 'C:\\\\Program Files', 'PROGRAMFILES(X86)': 'C:\\\\Program Files (x86)', 'PROGRAMW6432': 'C:\\\\Program Files', 'PSMODULEPATH': 'C:\\\\Windows\\\\system32\\\\WindowsPowerShell\\\\v1.0\\\\Modules\\\\', 'PUBLIC': 'C:\\\\Users\\\\Public', 'PYSPARK_DRIVER_PYTHON': 'ipython', 'PYSPARK_DRIVER_PYTHON_OPTS': 'notebook', 'PYTHONPATH': 'D:\\\\机器学习\\\\spark-2.4.3-bin-hadoop2.7\\\\python\\\\lib\\\\py4j;D:\\\\机器学习\\\\spark-2.4.3-bin-hadoop2.7\\\\python\\\\lib\\\\pyspark', 'SECSPECIALMODE': '710916', 'SESSIONNAME': 'Console', 'SPARK_HOME': 'D:\\\\机器学习\\\\spark-2.4.3-bin-hadoop2.7', 'SYSTEMDRIVE': 'C:', 'SYSTEMROOT': 'C:\\\\Windows', 'TEMP': 'C:\\\\Users\\\\ADMINI~1\\\\AppData\\\\Local\\\\Temp', 'TMP': 'C:\\\\Users\\\\ADMINI~1\\\\AppData\\\\Local\\\\Temp', 'USERDOMAIN': 'D8DVFO1IG8TUOH7', 'USERNAME': 'Administrator', 'USERPROFILE': 'C:\\\\Users\\\\Administrator', 'VBOX_MSI_INSTALL_PATH': 'C:\\\\Program Files\\\\Oracle\\\\VirtualBox\\\\', 'VS140COMNTOOLS': 'C:\\\\Program Files (x86)\\\\Microsoft Visual Studio 14.0\\\\Common7\\\\Tools\\\\', 'WINDIR': 'C:\\\\Windows', 'WINDOWS_TRACING_FLAGS': '3', 'WINDOWS_TRACING_LOGFILE': 'C:\\\\BVTBin\\\\Tests\\\\installpackage\\\\csilogfile.log', '_DFX_INSTALL_UNSIGNED_DRIVER': '1', 'CONDA_PREFIX': 'C:\\\\ProgramData\\\\Anaconda3', 'JPY_INTERRUPT_EVENT': '1084', 'IPY_INTERRUPT_EVENT': '1084', 'JPY_PARENT_PID': '1076', 'TERM': 'xterm-color', 'CLICOLOR': '1', 'PAGER': 'cat', 'GIT_PAGER': 'cat', 'MPLBACKEND': 'module://ipykernel.pylab.backend_inline'})\n",
      "C:\\Users\\Administrator\\AppData\\Roaming\n",
      "Default\n"
     ]
    }
   ],
   "source": [
    "# 读取系统信息\n",
    "print(os.name)\n",
    "# print(os.uname()) # Windows不支持\n",
    "print(os.environ)\n",
    "print(os.environ.get('APPDATA')) # 获取环境变量\n",
    "print(os.environ.get('Unknown', 'Default')) # 默认值设置"
   ]
  },
  {
   "cell_type": "code",
   "execution_count": 60,
   "metadata": {
    "ExecuteTime": {
     "end_time": "2021-04-18T02:58:05.489164Z",
     "start_time": "2021-04-18T02:58:05.479164Z"
    }
   },
   "outputs": [
    {
     "name": "stdout",
     "output_type": "stream",
     "text": [
      "C:\\Users\\Administrator\\Projcet\\python_coding\\practise1\n",
      "C:\\users\\lin\\testdir\n",
      "C:\\users\\lin\\testdir\n"
     ]
    }
   ],
   "source": [
    "import os\n",
    "# 目录操作\n",
    "print(os.path.abspath('.')) # 获取当前绝对路径\n",
    "path = os.path.join('C:\\\\users\\\\lin', 'testdir')\n",
    "print(path)\n",
    "path = os.path.join('C:\\\\users\\\\lin\\\\', 'testdir') # 自动处理多余的分割符号\n",
    "print(path)"
   ]
  },
  {
   "cell_type": "code",
   "execution_count": 61,
   "metadata": {
    "ExecuteTime": {
     "end_time": "2021-04-18T02:58:07.476278Z",
     "start_time": "2021-04-18T02:58:07.467278Z"
    }
   },
   "outputs": [
    {
     "name": "stdout",
     "output_type": "stream",
     "text": [
      "('c:\\\\download\\\\test', 'abc.txt')\n"
     ]
    }
   ],
   "source": [
    "# 拆分文件名和路径\n",
    "print(os.path.split('c:\\\\download\\\\test\\\\abc.txt'))"
   ]
  },
  {
   "cell_type": "code",
   "execution_count": 62,
   "metadata": {
    "ExecuteTime": {
     "end_time": "2021-04-18T02:58:09.227378Z",
     "start_time": "2021-04-18T02:58:09.219378Z"
    }
   },
   "outputs": [
    {
     "name": "stdout",
     "output_type": "stream",
     "text": [
      "('c:\\\\download\\\\test\\\\abc', '.txt')\n"
     ]
    }
   ],
   "source": [
    "# 获取文件后缀名\n",
    "print(os.path.splitext('c:\\\\download\\\\test\\\\abc.txt'))"
   ]
  },
  {
   "cell_type": "code",
   "execution_count": 63,
   "metadata": {
    "ExecuteTime": {
     "end_time": "2021-04-18T02:58:11.380501Z",
     "start_time": "2021-04-18T02:58:11.369501Z"
    }
   },
   "outputs": [
    {
     "data": {
      "text/plain": [
       "'C:\\\\Users\\\\Administrator\\\\Projcet\\\\python_coding\\\\practise1'"
      ]
     },
     "execution_count": 63,
     "metadata": {},
     "output_type": "execute_result"
    }
   ],
   "source": [
    "os.getcwd()"
   ]
  },
  {
   "cell_type": "code",
   "execution_count": 66,
   "metadata": {
    "ExecuteTime": {
     "end_time": "2021-04-18T03:26:10.403711Z",
     "start_time": "2021-04-18T03:26:10.382710Z"
    }
   },
   "outputs": [
    {
     "name": "stdout",
     "output_type": "stream",
     "text": [
      "fa.txt\n",
      "fb.txt\n",
      "xa.py\n",
      "xb.py\n",
      "dir1\n",
      "\t111.txt\n",
      "\t222.txt\n",
      "dir2\n",
      "\txxx.txt\n",
      "\tyyy.txt\n",
      "\txxxx\n",
      "\t\tNew Text Document.txt\n"
     ]
    }
   ],
   "source": [
    "# 当前路径遍历\n",
    "def path_dir(path, indent=''):\n",
    "    abs_path = os.path.abspath(path)\n",
    "    dirs = []\n",
    "    for item in os.listdir(path):\n",
    "        item_abs = os.path.join(abs_path, item)\n",
    "        if not os.path.isdir(item_abs):\n",
    "            print(indent + item)\n",
    "        else:\n",
    "            dirs.append(item)\n",
    "    for dir_ in dirs:\n",
    "        print(indent + dir_)\n",
    "        dir_ = os.path.join(abs_path, dir_)\n",
    "        path_dir(dir_, indent + '\\t')\n",
    "        \n",
    "path_dir('root')"
   ]
  },
  {
   "cell_type": "code",
   "execution_count": 71,
   "metadata": {
    "ExecuteTime": {
     "end_time": "2021-04-18T03:27:26.591069Z",
     "start_time": "2021-04-18T03:27:26.576068Z"
    }
   },
   "outputs": [
    {
     "data": {
      "text/plain": [
       "['xa.py', 'xb.py']"
      ]
     },
     "execution_count": 71,
     "metadata": {},
     "output_type": "execute_result"
    }
   ],
   "source": [
    "# 快速找到当前目录下的py文件（不包含子目录）\n",
    "# [列表推导 过滤条件]\n",
    "[x for x in os.listdir('root') if (os.path.isfile(os.path.join('root', x))) and (x.endswith('.py'))]"
   ]
  }
 ],
 "metadata": {
  "kernelspec": {
   "display_name": "Python 3",
   "language": "python",
   "name": "python3"
  },
  "language_info": {
   "codemirror_mode": {
    "name": "ipython",
    "version": 3
   },
   "file_extension": ".py",
   "mimetype": "text/x-python",
   "name": "python",
   "nbconvert_exporter": "python",
   "pygments_lexer": "ipython3",
   "version": "3.6.2"
  },
  "toc": {
   "base_numbering": 1,
   "nav_menu": {},
   "number_sections": true,
   "sideBar": true,
   "skip_h1_title": false,
   "title_cell": "Table of Contents",
   "title_sidebar": "Contents",
   "toc_cell": false,
   "toc_position": {},
   "toc_section_display": true,
   "toc_window_display": false
  }
 },
 "nbformat": 4,
 "nbformat_minor": 2
}
