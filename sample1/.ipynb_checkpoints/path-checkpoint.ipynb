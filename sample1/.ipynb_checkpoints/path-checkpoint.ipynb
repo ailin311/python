{
 "cells": [
  {
   "cell_type": "code",
   "execution_count": 2,
   "metadata": {
    "collapsed": true
   },
   "outputs": [],
   "source": [
    "import os\n",
    "import sys"
   ]
  },
  {
   "cell_type": "code",
   "execution_count": 3,
   "metadata": {},
   "outputs": [
    {
     "name": "stdout",
     "output_type": "stream",
     "text": [
      "nt\n",
      "environ({'#ENVTSLOGSHELLEXT2308': '20451824', 'ALLUSERSPROFILE': 'C:\\\\ProgramData', 'APPDATA': 'C:\\\\Users\\\\linying\\\\AppData\\\\Roaming', 'COMMONPROGRAMFILES': 'C:\\\\Program Files\\\\Common Files', 'COMMONPROGRAMFILES(X86)': 'C:\\\\Program Files (x86)\\\\Common Files', 'COMMONPROGRAMW6432': 'C:\\\\Program Files\\\\Common Files', 'COMPUTERNAME': 'DESKTOP-1EVU022', 'COMSPEC': 'C:\\\\Windows\\\\system32\\\\cmd.exe', 'HOMEDRIVE': 'C:', 'HOMEPATH': '\\\\Users\\\\linying', 'JAVA_HOME': 'C:\\\\Program Files\\\\Java\\\\jdk1.8.0_121', 'LOCALAPPDATA': 'C:\\\\Users\\\\linying\\\\AppData\\\\Local', 'LOGONSERVER': '\\\\\\\\DESKTOP-1EVU022', 'MOZ_PLUGIN_PATH': 'C:\\\\PROGRAM FILES (X86)\\\\FOXIT SOFTWARE\\\\FOXIT READER\\\\plugins\\\\', 'NUMBER_OF_PROCESSORS': '4', 'OS': 'Windows_NT', 'PATH': 'C:\\\\ProgramData\\\\Anaconda3\\\\Library\\\\bin;C:\\\\ProgramData\\\\Anaconda3\\\\Library\\\\bin;C:\\\\ProgramData\\\\Anaconda3;C:\\\\ProgramData\\\\Anaconda3\\\\Library\\\\mingw-w64\\\\bin;C:\\\\ProgramData\\\\Anaconda3\\\\Library\\\\usr\\\\bin;C:\\\\ProgramData\\\\Anaconda3\\\\Library\\\\bin;C:\\\\ProgramData\\\\Anaconda3\\\\Scripts;C:\\\\ProgramData\\\\Anaconda3\\\\Library\\\\bin;C:\\\\ProgramData\\\\Oracle\\\\Java\\\\javapath;C:\\\\Windows\\\\system32;C:\\\\Windows;C:\\\\Windows\\\\System32\\\\Wbem;C:\\\\Windows\\\\System32\\\\WindowsPowerShell\\\\v1.0\\\\;C:\\\\tools\\\\selenium_drivers;C:\\\\Program Files (x86)\\\\Windows Kits\\\\10\\\\Windows Performance Toolkit\\\\;%USERPROFILE%\\\\.dnx\\\\bin;C:\\\\Program Files\\\\Microsoft DNX\\\\Dnvm\\\\;C:\\\\Program Files\\\\Microsoft SQL Server\\\\130\\\\Tools\\\\Binn\\\\;C:\\\\Program Files\\\\Git\\\\cmd;C:\\\\ProgramData\\\\Anaconda3;C:\\\\ProgramData\\\\Anaconda3\\\\Scripts;C:\\\\ProgramData\\\\Anaconda3\\\\Library\\\\bin;C:\\\\Users\\\\linying\\\\AppData\\\\Local\\\\Programs\\\\Python\\\\Python35\\\\Scripts\\\\;C:\\\\Users\\\\linying\\\\AppData\\\\Local\\\\Programs\\\\Python\\\\Python35\\\\;C:\\\\Users\\\\linying\\\\AppData\\\\Local\\\\Microsoft\\\\WindowsApps', 'PATHEXT': '.COM;.EXE;.BAT;.CMD;.VBS;.VBE;.JS;.JSE;.WSF;.WSH;.MSC', 'PROCESSOR_ARCHITECTURE': 'AMD64', 'PROCESSOR_IDENTIFIER': 'Intel64 Family 6 Model 76 Stepping 4, GenuineIntel', 'PROCESSOR_LEVEL': '6', 'PROCESSOR_REVISION': '4c04', 'PROGRAMDATA': 'C:\\\\ProgramData', 'PROGRAMFILES': 'C:\\\\Program Files', 'PROGRAMFILES(X86)': 'C:\\\\Program Files (x86)', 'PROGRAMW6432': 'C:\\\\Program Files', 'PSMODULEPATH': '%ProgramFiles%\\\\WindowsPowerShell\\\\Modules;C:\\\\Windows\\\\system32\\\\WindowsPowerShell\\\\v1.0\\\\Modules', 'PUBLIC': 'C:\\\\Users\\\\Public', 'SYSTEMDRIVE': 'C:', 'SYSTEMROOT': 'C:\\\\Windows', 'TEMP': 'C:\\\\Users\\\\linying\\\\AppData\\\\Local\\\\Temp', 'TMP': 'C:\\\\Users\\\\linying\\\\AppData\\\\Local\\\\Temp', 'USERDOMAIN': 'DESKTOP-1EVU022', 'USERDOMAIN_ROAMINGPROFILE': 'DESKTOP-1EVU022', 'USERNAME': 'linying', 'USERPROFILE': 'C:\\\\Users\\\\linying', 'VBOX_MSI_INSTALL_PATH': 'C:\\\\Program Files\\\\Oracle\\\\VirtualBox\\\\', 'VS110COMNTOOLS': 'C:\\\\Program Files (x86)\\\\Microsoft Visual Studio 11.0\\\\Common7\\\\Tools\\\\', 'VS120COMNTOOLS': 'C:\\\\Program Files (x86)\\\\Microsoft Visual Studio 12.0\\\\Common7\\\\Tools\\\\', 'VS140COMNTOOLS': 'C:\\\\Program Files (x86)\\\\Microsoft Visual Studio 14.0\\\\Common7\\\\Tools\\\\', 'WINDIR': 'C:\\\\Windows', 'CONDA_PREFIX': 'C:\\\\ProgramData\\\\Anaconda3', 'JPY_INTERRUPT_EVENT': '1508', 'IPY_INTERRUPT_EVENT': '1508', 'JPY_PARENT_PID': '1380', 'TERM': 'xterm-color', 'CLICOLOR': '1', 'PAGER': 'cat', 'GIT_PAGER': 'cat', 'MPLBACKEND': 'module://ipykernel.pylab.backend_inline'})\n",
      "C:\\Users\\linying\\AppData\\Roaming\n",
      "Default\n"
     ]
    }
   ],
   "source": [
    "# 读取系统信息\n",
    "print(os.name)\n",
    "# print(os.uname()) # Windows不支持\n",
    "print(os.environ)\n",
    "print(os.environ.get('APPDATA')) # 获取环境变量\n",
    "print(os.environ.get('Unknown', 'Default')) # 默认值设置"
   ]
  },
  {
   "cell_type": "code",
   "execution_count": 5,
   "metadata": {},
   "outputs": [
    {
     "name": "stdout",
     "output_type": "stream",
     "text": [
      "C:\\Users\\linying\\Downloads\\K02\n",
      "C:\\users\\lin\\testdir\n",
      "C:\\users\\lin\\testdir\n"
     ]
    }
   ],
   "source": [
    "# 目录操作\n",
    "print(os.path.abspath('.')) # 获取当前绝对路径\n",
    "path = os.path.join('C:\\\\users\\\\lin', 'testdir')\n",
    "print(path)\n",
    "path = os.path.join('C:\\\\users\\\\lin\\\\', 'testdir') # 自动处理多余的分割符号\n",
    "print(path)"
   ]
  },
  {
   "cell_type": "code",
   "execution_count": 73,
   "metadata": {},
   "outputs": [
    {
     "name": "stdout",
     "output_type": "stream",
     "text": [
      "('c:\\\\download\\\\test', 'abc.txt')\n"
     ]
    }
   ],
   "source": [
    "# 拆分文件名和路径\n",
    "print(os.path.split('c:\\\\download\\\\test\\\\abc.txt'))"
   ]
  },
  {
   "cell_type": "code",
   "execution_count": 75,
   "metadata": {},
   "outputs": [
    {
     "name": "stdout",
     "output_type": "stream",
     "text": [
      "('c:\\\\download\\\\test\\\\abc', '.txt')\n"
     ]
    }
   ],
   "source": [
    "# 获取文件后缀名\n",
    "print(os.path.splitext('c:\\\\download\\\\test\\\\abc.txt'))"
   ]
  },
  {
   "cell_type": "code",
   "execution_count": 6,
   "metadata": {
    "scrolled": true
   },
   "outputs": [
    {
     "name": "stdout",
     "output_type": "stream",
     "text": [
      "fa.txt\n",
      "fb.txt\n",
      "xa.py\n",
      "xb.py\n",
      "dir1\n",
      "\t111.txt\n",
      "\t222.txt\n",
      "dir2\n",
      "\txxx.txt\n",
      "\tyyy.txt\n"
     ]
    }
   ],
   "source": [
    "# 当前路径遍历\n",
    "def path_dir(path, indent=''):\n",
    "    abs_path = os.path.abspath(path)\n",
    "    dirs = []\n",
    "    for item in os.listdir(path):\n",
    "        item_abs = os.path.join(abs_path, item)\n",
    "        if not os.path.isdir(item_abs):\n",
    "            print(indent + item)\n",
    "        else:\n",
    "            dirs.append(item)\n",
    "    for dir_ in dirs:\n",
    "        print(indent + dir_)\n",
    "        dir_ = os.path.join(abs_path, dir_)\n",
    "        path_dir(dir_, indent + '\\t')\n",
    "        \n",
    "path_dir('root')"
   ]
  },
  {
   "cell_type": "code",
   "execution_count": 7,
   "metadata": {},
   "outputs": [
    {
     "data": {
      "text/plain": [
       "['xa.py', 'xb.py']"
      ]
     },
     "execution_count": 7,
     "metadata": {},
     "output_type": "execute_result"
    }
   ],
   "source": [
    "# 快速找到当前目录下的txt文件（不包含子目录）\n",
    "# [列表推导 过滤条件]\n",
    "[x for x in os.listdir('root') if (os.path.isfile(os.path.join('root', x))) and (x.endswith('.py'))]"
   ]
  },
  {
   "cell_type": "code",
   "execution_count": 11,
   "metadata": {},
   "outputs": [
    {
     "name": "stdout",
     "output_type": "stream",
     "text": [
      "[3, 7, 11, 15, 19]\n"
     ]
    }
   ],
   "source": [
    "x = [1, 2, 3, 4, 5, 6, 7, 8, 9, 10]\n",
    "new_x = [(i * 2 + 1) for i in x if (i % 2) == 1]\n",
    "print(new_x)"
   ]
  },
  {
   "cell_type": "code",
   "execution_count": null,
   "metadata": {
    "collapsed": true
   },
   "outputs": [],
   "source": []
  }
 ],
 "metadata": {
  "kernelspec": {
   "display_name": "Python 3",
   "language": "python",
   "name": "python3"
  },
  "language_info": {
   "codemirror_mode": {
    "name": "ipython",
    "version": 3
   },
   "file_extension": ".py",
   "mimetype": "text/x-python",
   "name": "python",
   "nbconvert_exporter": "python",
   "pygments_lexer": "ipython3",
   "version": "3.6.5"
  }
 },
 "nbformat": 4,
 "nbformat_minor": 2
}
